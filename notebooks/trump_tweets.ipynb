{
 "cells": [
  {
   "cell_type": "code",
   "execution_count": 15,
   "metadata": {
    "collapsed": true
   },
   "outputs": [],
   "source": [
    "import pandas as pd\n",
    "from validator_collection import checkers\n",
    "import re\n",
    "import matplotlib.pyplot as plt\n",
    "import collections"
   ]
  },
  {
   "cell_type": "code",
   "execution_count": 16,
   "outputs": [
    {
     "name": "stdout",
     "output_type": "stream",
     "text": [
      "<class 'pandas.core.frame.DataFrame'>\n",
      "RangeIndex: 54442 entries, 0 to 54441\n",
      "Data columns (total 8 columns):\n",
      " #   Column     Non-Null Count  Dtype \n",
      "---  ------     --------------  ----- \n",
      " 0   id         54442 non-null  int64 \n",
      " 1   text       54442 non-null  object\n",
      " 2   isRetweet  54442 non-null  object\n",
      " 3   isDeleted  54442 non-null  object\n",
      " 4   device     54442 non-null  object\n",
      " 5   favorites  54442 non-null  int64 \n",
      " 6   retweets   54442 non-null  int64 \n",
      " 7   date       54442 non-null  object\n",
      "dtypes: int64(3), object(5)\n",
      "memory usage: 3.3+ MB\n"
     ]
    }
   ],
   "source": [
    "df = pd.read_csv('../data/tweets_10-24-2020.csv')\n",
    "df.info()"
   ],
   "metadata": {
    "collapsed": false,
    "pycharm": {
     "name": "#%%\n"
    }
   }
  },
  {
   "cell_type": "code",
   "execution_count": 17,
   "outputs": [
    {
     "name": "stdout",
     "output_type": "stream",
     "text": [
      "<class 'pandas.core.frame.DataFrame'>\n",
      "RangeIndex: 54442 entries, 0 to 54441\n",
      "Data columns (total 8 columns):\n",
      " #   Column     Non-Null Count  Dtype         \n",
      "---  ------     --------------  -----         \n",
      " 0   id         54442 non-null  int64         \n",
      " 1   text       54442 non-null  object        \n",
      " 2   isRetweet  54442 non-null  object        \n",
      " 3   isDeleted  54442 non-null  object        \n",
      " 4   device     54442 non-null  object        \n",
      " 5   favorites  54442 non-null  int64         \n",
      " 6   retweets   54442 non-null  int64         \n",
      " 7   date       54442 non-null  datetime64[ns]\n",
      "dtypes: datetime64[ns](1), int64(3), object(4)\n",
      "memory usage: 3.3+ MB\n"
     ]
    },
    {
     "data": {
      "text/plain": "                        id                                               text  \\\n0        98454970654916608  Republicans and Democrats have both created ou...   \n1      1234653427789070336  I was thrilled to be back in the Great city of...   \n2      1218010753434820614  RT @CBS_Herridge: READ: Letter to surveillance...   \n3      1304875170860015617  The Unsolicited Mail In Ballot Scam is a major...   \n4      1218159531554897920  RT @MZHemingway: Very friendly telling of even...   \n...                    ...                                                ...   \n54437  1319484210101379072  RT @EliseStefanik: President @realDonaldTrump ...   \n54438  1319444420861829121  RT @TeamTrump: LIVE: Presidential Debate #Deba...   \n54439  1319384118849949702  Just signed an order to support the workers of...   \n54440  1319345719829008387  Suburban women want Safety &amp; Security. Joe...   \n54441  1319339440867741696  Just left the White House for the Great State ...   \n\n      isRetweet isDeleted              device  favorites  retweets  \\\n0             f         f           TweetDeck         49       255   \n1             f         f  Twitter for iPhone      73748     17404   \n2             t         f  Twitter for iPhone          0      7396   \n3             f         f  Twitter for iPhone      80527     23502   \n4             t         f  Twitter for iPhone          0      9081   \n...         ...       ...                 ...        ...       ...   \n54437         t         f  Twitter for iPhone          0      9912   \n54438         t         f  Twitter for iPhone          0      8249   \n54439         f         f  Twitter for iPhone     175950     36098   \n54440         f         f  Twitter for iPhone      95325     19639   \n54441         f         f  Twitter for iPhone     137363     20791   \n\n                     date  \n0     2011-08-02 18:07:48  \n1     2020-03-03 01:34:50  \n2     2020-01-17 03:22:47  \n3     2020-09-12 20:10:58  \n4     2020-01-17 13:13:59  \n...                   ...  \n54437 2020-10-23 03:42:05  \n54438 2020-10-23 01:03:58  \n54439 2020-10-22 21:04:21  \n54440 2020-10-22 18:31:46  \n54441 2020-10-22 18:06:49  \n\n[54442 rows x 8 columns]",
      "text/html": "<div>\n<style scoped>\n    .dataframe tbody tr th:only-of-type {\n        vertical-align: middle;\n    }\n\n    .dataframe tbody tr th {\n        vertical-align: top;\n    }\n\n    .dataframe thead th {\n        text-align: right;\n    }\n</style>\n<table border=\"1\" class=\"dataframe\">\n  <thead>\n    <tr style=\"text-align: right;\">\n      <th></th>\n      <th>id</th>\n      <th>text</th>\n      <th>isRetweet</th>\n      <th>isDeleted</th>\n      <th>device</th>\n      <th>favorites</th>\n      <th>retweets</th>\n      <th>date</th>\n    </tr>\n  </thead>\n  <tbody>\n    <tr>\n      <th>0</th>\n      <td>98454970654916608</td>\n      <td>Republicans and Democrats have both created ou...</td>\n      <td>f</td>\n      <td>f</td>\n      <td>TweetDeck</td>\n      <td>49</td>\n      <td>255</td>\n      <td>2011-08-02 18:07:48</td>\n    </tr>\n    <tr>\n      <th>1</th>\n      <td>1234653427789070336</td>\n      <td>I was thrilled to be back in the Great city of...</td>\n      <td>f</td>\n      <td>f</td>\n      <td>Twitter for iPhone</td>\n      <td>73748</td>\n      <td>17404</td>\n      <td>2020-03-03 01:34:50</td>\n    </tr>\n    <tr>\n      <th>2</th>\n      <td>1218010753434820614</td>\n      <td>RT @CBS_Herridge: READ: Letter to surveillance...</td>\n      <td>t</td>\n      <td>f</td>\n      <td>Twitter for iPhone</td>\n      <td>0</td>\n      <td>7396</td>\n      <td>2020-01-17 03:22:47</td>\n    </tr>\n    <tr>\n      <th>3</th>\n      <td>1304875170860015617</td>\n      <td>The Unsolicited Mail In Ballot Scam is a major...</td>\n      <td>f</td>\n      <td>f</td>\n      <td>Twitter for iPhone</td>\n      <td>80527</td>\n      <td>23502</td>\n      <td>2020-09-12 20:10:58</td>\n    </tr>\n    <tr>\n      <th>4</th>\n      <td>1218159531554897920</td>\n      <td>RT @MZHemingway: Very friendly telling of even...</td>\n      <td>t</td>\n      <td>f</td>\n      <td>Twitter for iPhone</td>\n      <td>0</td>\n      <td>9081</td>\n      <td>2020-01-17 13:13:59</td>\n    </tr>\n    <tr>\n      <th>...</th>\n      <td>...</td>\n      <td>...</td>\n      <td>...</td>\n      <td>...</td>\n      <td>...</td>\n      <td>...</td>\n      <td>...</td>\n      <td>...</td>\n    </tr>\n    <tr>\n      <th>54437</th>\n      <td>1319484210101379072</td>\n      <td>RT @EliseStefanik: President @realDonaldTrump ...</td>\n      <td>t</td>\n      <td>f</td>\n      <td>Twitter for iPhone</td>\n      <td>0</td>\n      <td>9912</td>\n      <td>2020-10-23 03:42:05</td>\n    </tr>\n    <tr>\n      <th>54438</th>\n      <td>1319444420861829121</td>\n      <td>RT @TeamTrump: LIVE: Presidential Debate #Deba...</td>\n      <td>t</td>\n      <td>f</td>\n      <td>Twitter for iPhone</td>\n      <td>0</td>\n      <td>8249</td>\n      <td>2020-10-23 01:03:58</td>\n    </tr>\n    <tr>\n      <th>54439</th>\n      <td>1319384118849949702</td>\n      <td>Just signed an order to support the workers of...</td>\n      <td>f</td>\n      <td>f</td>\n      <td>Twitter for iPhone</td>\n      <td>175950</td>\n      <td>36098</td>\n      <td>2020-10-22 21:04:21</td>\n    </tr>\n    <tr>\n      <th>54440</th>\n      <td>1319345719829008387</td>\n      <td>Suburban women want Safety &amp;amp; Security. Joe...</td>\n      <td>f</td>\n      <td>f</td>\n      <td>Twitter for iPhone</td>\n      <td>95325</td>\n      <td>19639</td>\n      <td>2020-10-22 18:31:46</td>\n    </tr>\n    <tr>\n      <th>54441</th>\n      <td>1319339440867741696</td>\n      <td>Just left the White House for the Great State ...</td>\n      <td>f</td>\n      <td>f</td>\n      <td>Twitter for iPhone</td>\n      <td>137363</td>\n      <td>20791</td>\n      <td>2020-10-22 18:06:49</td>\n    </tr>\n  </tbody>\n</table>\n<p>54442 rows × 8 columns</p>\n</div>"
     },
     "execution_count": 17,
     "metadata": {},
     "output_type": "execute_result"
    }
   ],
   "source": [
    "# Convert to date time\n",
    "df['date']= pd.to_datetime(df['date'])\n",
    "df.info()\n",
    "df"
   ],
   "metadata": {
    "collapsed": false,
    "pycharm": {
     "name": "#%%\n"
    }
   }
  },
  {
   "cell_type": "code",
   "execution_count": 18,
   "outputs": [
    {
     "data": {
      "text/plain": "                        id                                               text  \\\n0        98454970654916608  Republicans and Democrats have both created ou...   \n1      1234653427789070336  I was thrilled to be back in the Great city of...   \n3      1304875170860015617  The Unsolicited Mail In Ballot Scam is a major...   \n5      1319761576996573186  THANK YOU to all of the Great American Patriot...   \n7      1315779944002199552  “I’m running as a proud Democrat, for the Sena...   \n...                    ...                                                ...   \n54429  1212177432452698115  Thank you to the @dcexaminer Washington Examin...   \n54430  1212175360093229056  One of my greatest honors was to have gotten C...   \n54439  1319384118849949702  Just signed an order to support the workers of...   \n54440  1319345719829008387  Suburban women want Safety &amp; Security. Joe...   \n54441  1319339440867741696  Just left the White House for the Great State ...   \n\n      isRetweet isDeleted              device  favorites  retweets  \\\n0             f         f           TweetDeck         49       255   \n1             f         f  Twitter for iPhone      73748     17404   \n3             f         f  Twitter for iPhone      80527     23502   \n5             f         f  Twitter for iPhone     100564     18992   \n7             f         f  Twitter for iPhone     149007     34897   \n...         ...       ...                 ...        ...       ...   \n54429         f         f  Twitter for iPhone      35044      9213   \n54430         f         f  Twitter for iPhone      56731     12761   \n54439         f         f  Twitter for iPhone     175950     36098   \n54440         f         f  Twitter for iPhone      95325     19639   \n54441         f         f  Twitter for iPhone     137363     20791   \n\n                     date  \n0     2011-08-02 18:07:48  \n1     2020-03-03 01:34:50  \n3     2020-09-12 20:10:58  \n5     2020-10-23 22:04:14  \n7     2020-10-12 22:22:39  \n...                   ...  \n54429 2020-01-01 01:03:15  \n54430 2020-01-01 00:55:01  \n54439 2020-10-22 21:04:21  \n54440 2020-10-22 18:31:46  \n54441 2020-10-22 18:06:49  \n\n[45270 rows x 8 columns]",
      "text/html": "<div>\n<style scoped>\n    .dataframe tbody tr th:only-of-type {\n        vertical-align: middle;\n    }\n\n    .dataframe tbody tr th {\n        vertical-align: top;\n    }\n\n    .dataframe thead th {\n        text-align: right;\n    }\n</style>\n<table border=\"1\" class=\"dataframe\">\n  <thead>\n    <tr style=\"text-align: right;\">\n      <th></th>\n      <th>id</th>\n      <th>text</th>\n      <th>isRetweet</th>\n      <th>isDeleted</th>\n      <th>device</th>\n      <th>favorites</th>\n      <th>retweets</th>\n      <th>date</th>\n    </tr>\n  </thead>\n  <tbody>\n    <tr>\n      <th>0</th>\n      <td>98454970654916608</td>\n      <td>Republicans and Democrats have both created ou...</td>\n      <td>f</td>\n      <td>f</td>\n      <td>TweetDeck</td>\n      <td>49</td>\n      <td>255</td>\n      <td>2011-08-02 18:07:48</td>\n    </tr>\n    <tr>\n      <th>1</th>\n      <td>1234653427789070336</td>\n      <td>I was thrilled to be back in the Great city of...</td>\n      <td>f</td>\n      <td>f</td>\n      <td>Twitter for iPhone</td>\n      <td>73748</td>\n      <td>17404</td>\n      <td>2020-03-03 01:34:50</td>\n    </tr>\n    <tr>\n      <th>3</th>\n      <td>1304875170860015617</td>\n      <td>The Unsolicited Mail In Ballot Scam is a major...</td>\n      <td>f</td>\n      <td>f</td>\n      <td>Twitter for iPhone</td>\n      <td>80527</td>\n      <td>23502</td>\n      <td>2020-09-12 20:10:58</td>\n    </tr>\n    <tr>\n      <th>5</th>\n      <td>1319761576996573186</td>\n      <td>THANK YOU to all of the Great American Patriot...</td>\n      <td>f</td>\n      <td>f</td>\n      <td>Twitter for iPhone</td>\n      <td>100564</td>\n      <td>18992</td>\n      <td>2020-10-23 22:04:14</td>\n    </tr>\n    <tr>\n      <th>7</th>\n      <td>1315779944002199552</td>\n      <td>“I’m running as a proud Democrat, for the Sena...</td>\n      <td>f</td>\n      <td>f</td>\n      <td>Twitter for iPhone</td>\n      <td>149007</td>\n      <td>34897</td>\n      <td>2020-10-12 22:22:39</td>\n    </tr>\n    <tr>\n      <th>...</th>\n      <td>...</td>\n      <td>...</td>\n      <td>...</td>\n      <td>...</td>\n      <td>...</td>\n      <td>...</td>\n      <td>...</td>\n      <td>...</td>\n    </tr>\n    <tr>\n      <th>54429</th>\n      <td>1212177432452698115</td>\n      <td>Thank you to the @dcexaminer Washington Examin...</td>\n      <td>f</td>\n      <td>f</td>\n      <td>Twitter for iPhone</td>\n      <td>35044</td>\n      <td>9213</td>\n      <td>2020-01-01 01:03:15</td>\n    </tr>\n    <tr>\n      <th>54430</th>\n      <td>1212175360093229056</td>\n      <td>One of my greatest honors was to have gotten C...</td>\n      <td>f</td>\n      <td>f</td>\n      <td>Twitter for iPhone</td>\n      <td>56731</td>\n      <td>12761</td>\n      <td>2020-01-01 00:55:01</td>\n    </tr>\n    <tr>\n      <th>54439</th>\n      <td>1319384118849949702</td>\n      <td>Just signed an order to support the workers of...</td>\n      <td>f</td>\n      <td>f</td>\n      <td>Twitter for iPhone</td>\n      <td>175950</td>\n      <td>36098</td>\n      <td>2020-10-22 21:04:21</td>\n    </tr>\n    <tr>\n      <th>54440</th>\n      <td>1319345719829008387</td>\n      <td>Suburban women want Safety &amp;amp; Security. Joe...</td>\n      <td>f</td>\n      <td>f</td>\n      <td>Twitter for iPhone</td>\n      <td>95325</td>\n      <td>19639</td>\n      <td>2020-10-22 18:31:46</td>\n    </tr>\n    <tr>\n      <th>54441</th>\n      <td>1319339440867741696</td>\n      <td>Just left the White House for the Great State ...</td>\n      <td>f</td>\n      <td>f</td>\n      <td>Twitter for iPhone</td>\n      <td>137363</td>\n      <td>20791</td>\n      <td>2020-10-22 18:06:49</td>\n    </tr>\n  </tbody>\n</table>\n<p>45270 rows × 8 columns</p>\n</div>"
     },
     "execution_count": 18,
     "metadata": {},
     "output_type": "execute_result"
    }
   ],
   "source": [
    "# Filtering\n",
    "df = df.loc[df['isRetweet'] == 'f']\n",
    "df\n",
    "\n"
   ],
   "metadata": {
    "collapsed": false,
    "pycharm": {
     "name": "#%%\n"
    }
   }
  },
  {
   "cell_type": "code",
   "execution_count": 19,
   "outputs": [],
   "source": [
    "def contains_url(text):\n",
    "    return checkers.is_url(text)\n",
    "\n",
    "def strip_url(text):\n",
    "    return re.sub(r'^https?:\\/\\/.*[\\r\\n]*', '', text, flags=re.MULTILINE)\n",
    "\n",
    "def remove_URL(sample):\n",
    "    \"\"\"Remove URLs from a sample string\"\"\"\n",
    "    return re.sub(r\"http\\S+\", \"\", sample)"
   ],
   "metadata": {
    "collapsed": false,
    "pycharm": {
     "name": "#%%\n"
    }
   }
  },
  {
   "cell_type": "code",
   "execution_count": 20,
   "outputs": [
    {
     "name": "stderr",
     "output_type": "stream",
     "text": [
      "<ipython-input-20-525629103b06>:2: SettingWithCopyWarning: \n",
      "A value is trying to be set on a copy of a slice from a DataFrame.\n",
      "Try using .loc[row_indexer,col_indexer] = value instead\n",
      "\n",
      "See the caveats in the documentation: https://pandas.pydata.org/pandas-docs/stable/user_guide/indexing.html#returning-a-view-versus-a-copy\n",
      "  df['is_url'] = df.apply(lambda x: contains_url(x['text']),axis=1)\n",
      "<ipython-input-20-525629103b06>:3: SettingWithCopyWarning: \n",
      "A value is trying to be set on a copy of a slice from a DataFrame.\n",
      "Try using .loc[row_indexer,col_indexer] = value instead\n",
      "\n",
      "See the caveats in the documentation: https://pandas.pydata.org/pandas-docs/stable/user_guide/indexing.html#returning-a-view-versus-a-copy\n",
      "  df['text'] = df.apply(lambda x: remove_URL(x['text']),axis=1)\n"
     ]
    },
    {
     "data": {
      "text/plain": "                        id                                               text  \\\n0        98454970654916608  Republicans and Democrats have both created ou...   \n1      1234653427789070336  I was thrilled to be back in the Great city of...   \n3      1304875170860015617  The Unsolicited Mail In Ballot Scam is a major...   \n5      1319761576996573186  THANK YOU to all of the Great American Patriot...   \n7      1315779944002199552  “I’m running as a proud Democrat, for the Sena...   \n...                    ...                                                ...   \n54429  1212177432452698115  Thank you to the @dcexaminer Washington Examin...   \n54430  1212175360093229056  One of my greatest honors was to have gotten C...   \n54439  1319384118849949702  Just signed an order to support the workers of...   \n54440  1319345719829008387  Suburban women want Safety &amp; Security. Joe...   \n54441  1319339440867741696  Just left the White House for the Great State ...   \n\n      isRetweet isDeleted              device  favorites  retweets  \\\n0             f         f           TweetDeck         49       255   \n1             f         f  Twitter for iPhone      73748     17404   \n3             f         f  Twitter for iPhone      80527     23502   \n5             f         f  Twitter for iPhone     100564     18992   \n7             f         f  Twitter for iPhone     149007     34897   \n...         ...       ...                 ...        ...       ...   \n54429         f         f  Twitter for iPhone      35044      9213   \n54430         f         f  Twitter for iPhone      56731     12761   \n54439         f         f  Twitter for iPhone     175950     36098   \n54440         f         f  Twitter for iPhone      95325     19639   \n54441         f         f  Twitter for iPhone     137363     20791   \n\n                     date  is_url  \n0     2011-08-02 18:07:48   False  \n1     2020-03-03 01:34:50   False  \n3     2020-09-12 20:10:58   False  \n5     2020-10-23 22:04:14   False  \n7     2020-10-12 22:22:39   False  \n...                   ...     ...  \n54429 2020-01-01 01:03:15   False  \n54430 2020-01-01 00:55:01   False  \n54439 2020-10-22 21:04:21   False  \n54440 2020-10-22 18:31:46   False  \n54441 2020-10-22 18:06:49   False  \n\n[45270 rows x 9 columns]",
      "text/html": "<div>\n<style scoped>\n    .dataframe tbody tr th:only-of-type {\n        vertical-align: middle;\n    }\n\n    .dataframe tbody tr th {\n        vertical-align: top;\n    }\n\n    .dataframe thead th {\n        text-align: right;\n    }\n</style>\n<table border=\"1\" class=\"dataframe\">\n  <thead>\n    <tr style=\"text-align: right;\">\n      <th></th>\n      <th>id</th>\n      <th>text</th>\n      <th>isRetweet</th>\n      <th>isDeleted</th>\n      <th>device</th>\n      <th>favorites</th>\n      <th>retweets</th>\n      <th>date</th>\n      <th>is_url</th>\n    </tr>\n  </thead>\n  <tbody>\n    <tr>\n      <th>0</th>\n      <td>98454970654916608</td>\n      <td>Republicans and Democrats have both created ou...</td>\n      <td>f</td>\n      <td>f</td>\n      <td>TweetDeck</td>\n      <td>49</td>\n      <td>255</td>\n      <td>2011-08-02 18:07:48</td>\n      <td>False</td>\n    </tr>\n    <tr>\n      <th>1</th>\n      <td>1234653427789070336</td>\n      <td>I was thrilled to be back in the Great city of...</td>\n      <td>f</td>\n      <td>f</td>\n      <td>Twitter for iPhone</td>\n      <td>73748</td>\n      <td>17404</td>\n      <td>2020-03-03 01:34:50</td>\n      <td>False</td>\n    </tr>\n    <tr>\n      <th>3</th>\n      <td>1304875170860015617</td>\n      <td>The Unsolicited Mail In Ballot Scam is a major...</td>\n      <td>f</td>\n      <td>f</td>\n      <td>Twitter for iPhone</td>\n      <td>80527</td>\n      <td>23502</td>\n      <td>2020-09-12 20:10:58</td>\n      <td>False</td>\n    </tr>\n    <tr>\n      <th>5</th>\n      <td>1319761576996573186</td>\n      <td>THANK YOU to all of the Great American Patriot...</td>\n      <td>f</td>\n      <td>f</td>\n      <td>Twitter for iPhone</td>\n      <td>100564</td>\n      <td>18992</td>\n      <td>2020-10-23 22:04:14</td>\n      <td>False</td>\n    </tr>\n    <tr>\n      <th>7</th>\n      <td>1315779944002199552</td>\n      <td>“I’m running as a proud Democrat, for the Sena...</td>\n      <td>f</td>\n      <td>f</td>\n      <td>Twitter for iPhone</td>\n      <td>149007</td>\n      <td>34897</td>\n      <td>2020-10-12 22:22:39</td>\n      <td>False</td>\n    </tr>\n    <tr>\n      <th>...</th>\n      <td>...</td>\n      <td>...</td>\n      <td>...</td>\n      <td>...</td>\n      <td>...</td>\n      <td>...</td>\n      <td>...</td>\n      <td>...</td>\n      <td>...</td>\n    </tr>\n    <tr>\n      <th>54429</th>\n      <td>1212177432452698115</td>\n      <td>Thank you to the @dcexaminer Washington Examin...</td>\n      <td>f</td>\n      <td>f</td>\n      <td>Twitter for iPhone</td>\n      <td>35044</td>\n      <td>9213</td>\n      <td>2020-01-01 01:03:15</td>\n      <td>False</td>\n    </tr>\n    <tr>\n      <th>54430</th>\n      <td>1212175360093229056</td>\n      <td>One of my greatest honors was to have gotten C...</td>\n      <td>f</td>\n      <td>f</td>\n      <td>Twitter for iPhone</td>\n      <td>56731</td>\n      <td>12761</td>\n      <td>2020-01-01 00:55:01</td>\n      <td>False</td>\n    </tr>\n    <tr>\n      <th>54439</th>\n      <td>1319384118849949702</td>\n      <td>Just signed an order to support the workers of...</td>\n      <td>f</td>\n      <td>f</td>\n      <td>Twitter for iPhone</td>\n      <td>175950</td>\n      <td>36098</td>\n      <td>2020-10-22 21:04:21</td>\n      <td>False</td>\n    </tr>\n    <tr>\n      <th>54440</th>\n      <td>1319345719829008387</td>\n      <td>Suburban women want Safety &amp;amp; Security. Joe...</td>\n      <td>f</td>\n      <td>f</td>\n      <td>Twitter for iPhone</td>\n      <td>95325</td>\n      <td>19639</td>\n      <td>2020-10-22 18:31:46</td>\n      <td>False</td>\n    </tr>\n    <tr>\n      <th>54441</th>\n      <td>1319339440867741696</td>\n      <td>Just left the White House for the Great State ...</td>\n      <td>f</td>\n      <td>f</td>\n      <td>Twitter for iPhone</td>\n      <td>137363</td>\n      <td>20791</td>\n      <td>2020-10-22 18:06:49</td>\n      <td>False</td>\n    </tr>\n  </tbody>\n</table>\n<p>45270 rows × 9 columns</p>\n</div>"
     },
     "execution_count": 20,
     "metadata": {},
     "output_type": "execute_result"
    }
   ],
   "source": [
    "# Label the records where it is a url with a new column 'is_url' with boolean\n",
    "df['is_url'] = df.apply(lambda x: contains_url(x['text']),axis=1)\n",
    "df['text'] = df.apply(lambda x: remove_URL(x['text']),axis=1)\n",
    "df"
   ],
   "metadata": {
    "collapsed": false,
    "pycharm": {
     "name": "#%%\n"
    }
   }
  },
  {
   "cell_type": "code",
   "execution_count": 21,
   "outputs": [
    {
     "data": {
      "text/plain": "                        id                                               text  \\\n1      1234653427789070336  I was thrilled to be back in the Great city of...   \n3      1304875170860015617  The Unsolicited Mail In Ballot Scam is a major...   \n5      1319761576996573186  THANK YOU to all of the Great American Patriot...   \n7      1315779944002199552  “I’m running as a proud Democrat, for the Sena...   \n8      1223640662689689602           Getting a little exercise this morning!    \n...                    ...                                                ...   \n54429  1212177432452698115  Thank you to the @dcexaminer Washington Examin...   \n54430  1212175360093229056  One of my greatest honors was to have gotten C...   \n54439  1319384118849949702  Just signed an order to support the workers of...   \n54440  1319345719829008387  Suburban women want Safety &amp; Security. Joe...   \n54441  1319339440867741696  Just left the White House for the Great State ...   \n\n      isRetweet isDeleted              device  favorites  retweets  \\\n1             f         f  Twitter for iPhone      73748     17404   \n3             f         f  Twitter for iPhone      80527     23502   \n5             f         f  Twitter for iPhone     100564     18992   \n7             f         f  Twitter for iPhone     149007     34897   \n8             f         f  Twitter for iPhone     285863     30209   \n...         ...       ...                 ...        ...       ...   \n54429         f         f  Twitter for iPhone      35044      9213   \n54430         f         f  Twitter for iPhone      56731     12761   \n54439         f         f  Twitter for iPhone     175950     36098   \n54440         f         f  Twitter for iPhone      95325     19639   \n54441         f         f  Twitter for iPhone     137363     20791   \n\n                     date  is_url  \n1     2020-03-03 01:34:50   False  \n3     2020-09-12 20:10:58   False  \n5     2020-10-23 22:04:14   False  \n7     2020-10-12 22:22:39   False  \n8     2020-02-01 16:14:02   False  \n...                   ...     ...  \n54429 2020-01-01 01:03:15   False  \n54430 2020-01-01 00:55:01   False  \n54439 2020-10-22 21:04:21   False  \n54440 2020-10-22 18:31:46   False  \n54441 2020-10-22 18:06:49   False  \n\n[18358 rows x 9 columns]",
      "text/html": "<div>\n<style scoped>\n    .dataframe tbody tr th:only-of-type {\n        vertical-align: middle;\n    }\n\n    .dataframe tbody tr th {\n        vertical-align: top;\n    }\n\n    .dataframe thead th {\n        text-align: right;\n    }\n</style>\n<table border=\"1\" class=\"dataframe\">\n  <thead>\n    <tr style=\"text-align: right;\">\n      <th></th>\n      <th>id</th>\n      <th>text</th>\n      <th>isRetweet</th>\n      <th>isDeleted</th>\n      <th>device</th>\n      <th>favorites</th>\n      <th>retweets</th>\n      <th>date</th>\n      <th>is_url</th>\n    </tr>\n  </thead>\n  <tbody>\n    <tr>\n      <th>1</th>\n      <td>1234653427789070336</td>\n      <td>I was thrilled to be back in the Great city of...</td>\n      <td>f</td>\n      <td>f</td>\n      <td>Twitter for iPhone</td>\n      <td>73748</td>\n      <td>17404</td>\n      <td>2020-03-03 01:34:50</td>\n      <td>False</td>\n    </tr>\n    <tr>\n      <th>3</th>\n      <td>1304875170860015617</td>\n      <td>The Unsolicited Mail In Ballot Scam is a major...</td>\n      <td>f</td>\n      <td>f</td>\n      <td>Twitter for iPhone</td>\n      <td>80527</td>\n      <td>23502</td>\n      <td>2020-09-12 20:10:58</td>\n      <td>False</td>\n    </tr>\n    <tr>\n      <th>5</th>\n      <td>1319761576996573186</td>\n      <td>THANK YOU to all of the Great American Patriot...</td>\n      <td>f</td>\n      <td>f</td>\n      <td>Twitter for iPhone</td>\n      <td>100564</td>\n      <td>18992</td>\n      <td>2020-10-23 22:04:14</td>\n      <td>False</td>\n    </tr>\n    <tr>\n      <th>7</th>\n      <td>1315779944002199552</td>\n      <td>“I’m running as a proud Democrat, for the Sena...</td>\n      <td>f</td>\n      <td>f</td>\n      <td>Twitter for iPhone</td>\n      <td>149007</td>\n      <td>34897</td>\n      <td>2020-10-12 22:22:39</td>\n      <td>False</td>\n    </tr>\n    <tr>\n      <th>8</th>\n      <td>1223640662689689602</td>\n      <td>Getting a little exercise this morning!</td>\n      <td>f</td>\n      <td>f</td>\n      <td>Twitter for iPhone</td>\n      <td>285863</td>\n      <td>30209</td>\n      <td>2020-02-01 16:14:02</td>\n      <td>False</td>\n    </tr>\n    <tr>\n      <th>...</th>\n      <td>...</td>\n      <td>...</td>\n      <td>...</td>\n      <td>...</td>\n      <td>...</td>\n      <td>...</td>\n      <td>...</td>\n      <td>...</td>\n      <td>...</td>\n    </tr>\n    <tr>\n      <th>54429</th>\n      <td>1212177432452698115</td>\n      <td>Thank you to the @dcexaminer Washington Examin...</td>\n      <td>f</td>\n      <td>f</td>\n      <td>Twitter for iPhone</td>\n      <td>35044</td>\n      <td>9213</td>\n      <td>2020-01-01 01:03:15</td>\n      <td>False</td>\n    </tr>\n    <tr>\n      <th>54430</th>\n      <td>1212175360093229056</td>\n      <td>One of my greatest honors was to have gotten C...</td>\n      <td>f</td>\n      <td>f</td>\n      <td>Twitter for iPhone</td>\n      <td>56731</td>\n      <td>12761</td>\n      <td>2020-01-01 00:55:01</td>\n      <td>False</td>\n    </tr>\n    <tr>\n      <th>54439</th>\n      <td>1319384118849949702</td>\n      <td>Just signed an order to support the workers of...</td>\n      <td>f</td>\n      <td>f</td>\n      <td>Twitter for iPhone</td>\n      <td>175950</td>\n      <td>36098</td>\n      <td>2020-10-22 21:04:21</td>\n      <td>False</td>\n    </tr>\n    <tr>\n      <th>54440</th>\n      <td>1319345719829008387</td>\n      <td>Suburban women want Safety &amp;amp; Security. Joe...</td>\n      <td>f</td>\n      <td>f</td>\n      <td>Twitter for iPhone</td>\n      <td>95325</td>\n      <td>19639</td>\n      <td>2020-10-22 18:31:46</td>\n      <td>False</td>\n    </tr>\n    <tr>\n      <th>54441</th>\n      <td>1319339440867741696</td>\n      <td>Just left the White House for the Great State ...</td>\n      <td>f</td>\n      <td>f</td>\n      <td>Twitter for iPhone</td>\n      <td>137363</td>\n      <td>20791</td>\n      <td>2020-10-22 18:06:49</td>\n      <td>False</td>\n    </tr>\n  </tbody>\n</table>\n<p>18358 rows × 9 columns</p>\n</div>"
     },
     "execution_count": 21,
     "metadata": {},
     "output_type": "execute_result"
    }
   ],
   "source": [
    "# Show only the records where 'is_url' is True\n",
    "# df[df['is_url'] == True]\n",
    "mask = (df['is_url'] == False) & (df['date'] > '2016-01-01')\n",
    "filtered_dates = df.loc[mask]\n",
    "\n",
    "filtered_dates.to_csv('../data/filtered_tweets.csv')\n",
    "filtered_dates\n",
    "# df[df['is_url'] == False & df['date'] > '2016-01-01']"
   ],
   "metadata": {
    "collapsed": false,
    "pycharm": {
     "name": "#%%\n"
    }
   }
  }
 ],
 "metadata": {
  "kernelspec": {
   "display_name": "Python 3",
   "language": "python",
   "name": "python3"
  },
  "language_info": {
   "codemirror_mode": {
    "name": "ipython",
    "version": 2
   },
   "file_extension": ".py",
   "mimetype": "text/x-python",
   "name": "python",
   "nbconvert_exporter": "python",
   "pygments_lexer": "ipython2",
   "version": "2.7.6"
  }
 },
 "nbformat": 4,
 "nbformat_minor": 0
}